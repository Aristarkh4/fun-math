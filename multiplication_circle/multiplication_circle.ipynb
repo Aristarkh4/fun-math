{
 "cells": [
  {
   "cell_type": "code",
   "execution_count": 1,
   "metadata": {},
   "outputs": [],
   "source": [
    "import math\n",
    "\n",
    "import cv2\n",
    "import numpy as np\n",
    "import matplotlib.pyplot as plt"
   ]
  },
  {
   "cell_type": "code",
   "execution_count": 2,
   "metadata": {},
   "outputs": [],
   "source": [
    "number_points = 200\n",
    "r = 500\n",
    "segment_angle = 2*math.pi/number_points"
   ]
  },
  {
   "cell_type": "code",
   "execution_count": 3,
   "metadata": {},
   "outputs": [],
   "source": [
    "points = [(100, 600)]\n",
    "for count in range(1, number_points):\n",
    "    math.sin(count*segment_angle)*r\n",
    "    point = (points[0][0] + (r - math.cos(count*segment_angle)*r), points[0][1] + math.sin(count*segment_angle)*r)\n",
    "    point = (int(point[0]), int(point[1]))\n",
    "    points.append(point)"
   ]
  },
  {
   "cell_type": "code",
   "execution_count": 6,
   "metadata": {},
   "outputs": [],
   "source": [
    "for multiplier in np.arange(2, 200, 0.1):\n",
    "    img = np.full((1200, 1200, 3), 255)\n",
    "    for point in points:\n",
    "        img = cv2.circle(img, point, 3, (255, 0, 0), 2)\n",
    "    connections = []\n",
    "    for count in range(number_points):\n",
    "        connection = (count, int(count*multiplier) % number_points)\n",
    "        connections.append(connection)\n",
    "        img = cv2.line(img, points[connection[0]], points[connection[1]], (0, 0, 255), 2)\n",
    "    cv2.imwrite(f'imgs/{int(multiplier*10)}.png', img)"
   ]
  },
  {
   "cell_type": "code",
   "execution_count": null,
   "metadata": {},
   "outputs": [],
   "source": []
  },
  {
   "cell_type": "code",
   "execution_count": null,
   "metadata": {},
   "outputs": [],
   "source": []
  }
 ],
 "metadata": {
  "language_info": {
   "codemirror_mode": {
    "name": "ipython",
    "version": 3
   },
   "file_extension": ".py",
   "mimetype": "text/x-python",
   "name": "python",
   "nbconvert_exporter": "python",
   "pygments_lexer": "ipython3",
   "version": "3.7.5-final"
  },
  "orig_nbformat": 2,
  "kernelspec": {
   "name": "python37564bitb2bb7900fbe144bfaba638305fa1d7c4",
   "display_name": "Python 3.7.5 64-bit"
  }
 },
 "nbformat": 4,
 "nbformat_minor": 2
}