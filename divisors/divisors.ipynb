{
 "cells": [
  {
   "cell_type": "code",
   "execution_count": 11,
   "metadata": {},
   "outputs": [],
   "source": [
    "def divisors(n):\n",
    "    divisors = []\n",
    "    for i in range(2, n+1):\n",
    "        if n%i == 0:\n",
    "            divisors.append(i)\n",
    "    return divisors"
   ]
  },
  {
   "cell_type": "code",
   "execution_count": 26,
   "metadata": {},
   "outputs": [],
   "source": [
    "def is_prime(n):\n",
    "    assert type(n) is int\n",
    "    if n < 2:\n",
    "        return False\n",
    "    if len(divisors(n)) == 1:\n",
    "        return True\n",
    "    else:\n",
    "        return False"
   ]
  },
  {
   "cell_type": "code",
   "execution_count": 28,
   "metadata": {},
   "outputs": [
    {
     "output_type": "stream",
     "name": "stdout",
     "text": "2\n3\n5\n7\n11\n13\n17\n19\n23\n29\n31\n37\n41\n43\n47\n53\n59\n61\n67\n71\n73\n79\n83\n89\n97\n"
    }
   ],
   "source": [
    "for i in range(100):\n",
    "    if is_prime(i):\n",
    "        print(i)"
   ]
  },
  {
   "cell_type": "code",
   "execution_count": 31,
   "metadata": {},
   "outputs": [],
   "source": [
    "def factorize(n):\n",
    "    primes = [i for i in range(n+1) if is_prime(i)]\n",
    "    factors = []\n",
    "    for p in primes:\n",
    "        if n == 1:\n",
    "            break\n",
    "        power = 0\n",
    "        while n%p == 0:\n",
    "            power += 1\n",
    "            n = n/p\n",
    "        if power > 0:\n",
    "            factors.append((p, power))\n",
    "    return factors"
   ]
  },
  {
   "cell_type": "code",
   "execution_count": 35,
   "metadata": {},
   "outputs": [
    {
     "output_type": "execute_result",
     "data": {
      "text/plain": "[(2, 1), (11, 1), (97, 1)]"
     },
     "metadata": {},
     "execution_count": 35
    }
   ],
   "source": [
    "factorize(2134)"
   ]
  },
  {
   "cell_type": "code",
   "execution_count": 38,
   "metadata": {},
   "outputs": [],
   "source": [
    "def mu(n):\n",
    "    \"\"\"Mertens Function.\n",
    "    \n",
    "    Args:\n",
    "        n (int)\n",
    "    \n",
    "    Returns:\n",
    "        int: -1 if n has odd number of prime factors\n",
    "            (and each has power 1), 1 if n has even number of prime\n",
    "            factors (and each has power 1), 0 if n has prime factors\n",
    "            in power higher than 1.\n",
    "    \"\"\"\n",
    "    factors = factorize(n)\n",
    "    assert len(factors) != 0\n",
    "\n",
    "    if any([f[1] > 1 for f in factors]):\n",
    "        return 0\n",
    "    elif len(factors) % 2 == 0:\n",
    "        return 1\n",
    "    else:\n",
    "        return -1"
   ]
  },
  {
   "cell_type": "markdown",
   "metadata": {},
   "source": [
    "# Merten's Conjecture\n",
    "\n",
    "abs(Sum of mu's up to N) <= (n)**0.5\n",
    "\n",
    "Disproven!"
   ]
  }
 ],
 "metadata": {
  "language_info": {
   "codemirror_mode": {
    "name": "ipython",
    "version": 3
   },
   "file_extension": ".py",
   "mimetype": "text/x-python",
   "name": "python",
   "nbconvert_exporter": "python",
   "pygments_lexer": "ipython3",
   "version": "3.7.5-final"
  },
  "orig_nbformat": 2,
  "kernelspec": {
   "name": "python37564bitb2bb7900fbe144bfaba638305fa1d7c4",
   "display_name": "Python 3.7.5 64-bit"
  }
 },
 "nbformat": 4,
 "nbformat_minor": 2
}